{
 "cells": [
  {
   "cell_type": "markdown",
   "metadata": {},
   "source": [
    "## Week 5: Demo"
   ]
  },
  {
   "cell_type": "code",
   "execution_count": 124,
   "metadata": {
    "dotnet_interactive": {
     "language": "mermaid"
    },
    "polyglot_notebook": {
     "kernelName": "mermaid"
    }
   },
   "outputs": [
    {
     "data": {
      "text/html": [
       "<div class=\"mermaidMarkdownContainer\" style=\"background-color:white\">\r\n",
       "<link rel=\"stylesheet\" href=\"https://cdnjs.cloudflare.com/ajax/libs/font-awesome/6.2.0/css/all.min.css\">\r\n",
       "<div id=\"e14bef7cf80f4dbd883a63d87b7237cc\"></div>\r\n",
       "<script type=\"module\">\r\n",
       "\r\n",
       "            import mermaid from 'https://cdn.jsdelivr.net/npm/mermaid@10.1.0/dist/mermaid.esm.min.mjs';\r\n",
       "            let renderTarget = document.getElementById('e14bef7cf80f4dbd883a63d87b7237cc');\r\n",
       "            try {\r\n",
       "                const {svg, bindFunctions} = await mermaid.mermaidAPI.render( \r\n",
       "                    'mermaid_e14bef7cf80f4dbd883a63d87b7237cc', \r\n",
       "                    ` mindmap\n",
       "    recap\n",
       "        Types\n",
       "            string, int, bool\n",
       "        Data and Variables\n",
       "            Declaring Variables\n",
       "            Initializing Variables\n",
       "            Data Types and Conversions\n",
       "        Operations\n",
       "            Arithmetic Operations\n",
       "            Comparison Operators\n",
       "            Logical Operators\n",
       "        Control Flow\n",
       "            Conditional Statements\n",
       "                if, if else\n",
       "            Switch Statement\n",
       "            Loops\n",
       "                for Loop\n",
       "                while Loop\n",
       "                do while Loop\n",
       "        Functions\n",
       "            Defining and Calling Functions\n",
       "            Parameters and Return Values\n",
       "`);\r\n",
       "                renderTarget.innerHTML = svg;\r\n",
       "                bindFunctions?.(renderTarget);\r\n",
       "            }\r\n",
       "            catch (error) {\r\n",
       "                console.log(error);\r\n",
       "            }\r\n",
       "</script>\r\n",
       "</div>\r\n"
      ]
     },
     "metadata": {},
     "output_type": "display_data"
    }
   ],
   "source": [
    " mindmap\n",
    "    recap\n",
    "        Types\n",
    "            string, int, bool\n",
    "        Data and Variables\n",
    "            Declaring Variables\n",
    "            Initializing Variables\n",
    "            Data Types and Conversions\n",
    "        Operations\n",
    "            Arithmetic Operations\n",
    "            Comparison Operators\n",
    "            Logical Operators\n",
    "        Control Flow\n",
    "            Conditional Statements\n",
    "                if, if else\n",
    "            Switch Statement\n",
    "            Loops\n",
    "                for Loop\n",
    "                while Loop\n",
    "                do while Loop\n",
    "        Functions\n",
    "            Defining and Calling Functions\n",
    "            Parameters and Return Values\n"
   ]
  },
  {
   "cell_type": "code",
   "execution_count": 66,
   "metadata": {
    "dotnet_interactive": {
     "language": "csharp"
    },
    "polyglot_notebook": {
     "kernelName": "csharp"
    }
   },
   "outputs": [],
   "source": [
    "int age = 42;\n",
    "double PI = 3.141592654; // double-precision decimal point number (64-bits)\n",
    "float f = 4.51343434678f; // single-precision (32 bits)"
   ]
  },
  {
   "cell_type": "code",
   "execution_count": 70,
   "metadata": {
    "dotnet_interactive": {
     "language": "csharp"
    },
    "polyglot_notebook": {
     "kernelName": "csharp"
    }
   },
   "outputs": [],
   "source": [
    "int age = 0, height = 50, location = 5;"
   ]
  },
  {
   "cell_type": "code",
   "execution_count": 11,
   "metadata": {
    "dotnet_interactive": {
     "language": "csharp"
    },
    "polyglot_notebook": {
     "kernelName": "csharp"
    }
   },
   "outputs": [
    {
     "data": {
      "text/html": [
       "<div class=\"dni-plaintext\"><pre>2147483647</pre></div><style>\r\n",
       ".dni-code-hint {\r\n",
       "    font-style: italic;\r\n",
       "    overflow: hidden;\r\n",
       "    white-space: nowrap;\r\n",
       "}\r\n",
       ".dni-treeview {\r\n",
       "    white-space: nowrap;\r\n",
       "}\r\n",
       ".dni-treeview td {\r\n",
       "    vertical-align: top;\r\n",
       "    text-align: start;\r\n",
       "}\r\n",
       "details.dni-treeview {\r\n",
       "    padding-left: 1em;\r\n",
       "}\r\n",
       "table td {\r\n",
       "    text-align: start;\r\n",
       "}\r\n",
       "table tr { \r\n",
       "    vertical-align: top; \r\n",
       "    margin: 0em 0px;\r\n",
       "}\r\n",
       "table tr td pre \r\n",
       "{ \r\n",
       "    vertical-align: top !important; \r\n",
       "    margin: 0em 0px !important;\r\n",
       "} \r\n",
       "table th {\r\n",
       "    text-align: start;\r\n",
       "}\r\n",
       "</style>"
      ]
     },
     "metadata": {},
     "output_type": "display_data"
    }
   ],
   "source": [
    "int.MaxValue"
   ]
  },
  {
   "cell_type": "code",
   "execution_count": 13,
   "metadata": {
    "dotnet_interactive": {
     "language": "csharp"
    },
    "polyglot_notebook": {
     "kernelName": "csharp"
    }
   },
   "outputs": [],
   "source": [
    "enum Season {\n",
    "  Winter,\n",
    "  Spring,\n",
    "  Summer,\n",
    "  Autumn\n",
    "}"
   ]
  },
  {
   "cell_type": "code",
   "execution_count": 23,
   "metadata": {
    "dotnet_interactive": {
     "language": "csharp"
    },
    "polyglot_notebook": {
     "kernelName": "csharp"
    }
   },
   "outputs": [],
   "source": [
    "Season s = Season.Summer;"
   ]
  },
  {
   "cell_type": "code",
   "execution_count": 16,
   "metadata": {
    "dotnet_interactive": {
     "language": "csharp"
    },
    "polyglot_notebook": {
     "kernelName": "csharp"
    }
   },
   "outputs": [
    {
     "data": {
      "text/html": [
       "<div class=\"dni-plaintext\"><pre>False</pre></div><style>\r\n",
       ".dni-code-hint {\r\n",
       "    font-style: italic;\r\n",
       "    overflow: hidden;\r\n",
       "    white-space: nowrap;\r\n",
       "}\r\n",
       ".dni-treeview {\r\n",
       "    white-space: nowrap;\r\n",
       "}\r\n",
       ".dni-treeview td {\r\n",
       "    vertical-align: top;\r\n",
       "    text-align: start;\r\n",
       "}\r\n",
       "details.dni-treeview {\r\n",
       "    padding-left: 1em;\r\n",
       "}\r\n",
       "table td {\r\n",
       "    text-align: start;\r\n",
       "}\r\n",
       "table tr { \r\n",
       "    vertical-align: top; \r\n",
       "    margin: 0em 0px;\r\n",
       "}\r\n",
       "table tr td pre \r\n",
       "{ \r\n",
       "    vertical-align: top !important; \r\n",
       "    margin: 0em 0px !important;\r\n",
       "} \r\n",
       "table th {\r\n",
       "    text-align: start;\r\n",
       "}\r\n",
       "</style>"
      ]
     },
     "metadata": {},
     "output_type": "display_data"
    }
   ],
   "source": [
    "s == Season.Summer"
   ]
  },
  {
   "cell_type": "code",
   "execution_count": 27,
   "metadata": {
    "dotnet_interactive": {
     "language": "csharp"
    },
    "polyglot_notebook": {
     "kernelName": "csharp"
    }
   },
   "outputs": [
    {
     "data": {
      "text/html": [
       "<span><a href=\"https://docs.microsoft.com/dotnet/api/system.int32?view=net-7.0\">System.Int32</a></span>"
      ]
     },
     "metadata": {},
     "output_type": "display_data"
    }
   ],
   "source": [
    "typeof(int)"
   ]
  },
  {
   "cell_type": "code",
   "execution_count": 34,
   "metadata": {
    "dotnet_interactive": {
     "language": "csharp"
    },
    "polyglot_notebook": {
     "kernelName": "csharp"
    }
   },
   "outputs": [
    {
     "data": {
      "text/html": [
       "<span><a href=\"https://docs.microsoft.com/dotnet/api/system.string?view=net-7.0\">System.String</a></span>"
      ]
     },
     "metadata": {},
     "output_type": "display_data"
    }
   ],
   "source": [
    "typeof(string)"
   ]
  },
  {
   "cell_type": "code",
   "execution_count": 36,
   "metadata": {
    "dotnet_interactive": {
     "language": "csharp"
    },
    "polyglot_notebook": {
     "kernelName": "csharp"
    }
   },
   "outputs": [],
   "source": [
    "System.Int32 foo = 43;"
   ]
  },
  {
   "cell_type": "markdown",
   "metadata": {},
   "source": [
    "# Making  some ♬ with a little C♯"
   ]
  },
  {
   "cell_type": "code",
   "execution_count": 101,
   "metadata": {
    "dotnet_interactive": {
     "language": "csharp"
    },
    "polyglot_notebook": {
     "kernelName": "csharp"
    }
   },
   "outputs": [],
   "source": [
    "Console.Beep(256, 800);\n"
   ]
  },
  {
   "cell_type": "markdown",
   "metadata": {},
   "source": [
    "That's a C ¼ note. The tone is 256Hz for 800 milliseconds. Let's try to play twinkle twinkle little star. "
   ]
  },
  {
   "cell_type": "markdown",
   "metadata": {},
   "source": [
    "C C G G A A G F F E E D D C"
   ]
  },
  {
   "cell_type": "code",
   "execution_count": 102,
   "metadata": {
    "dotnet_interactive": {
     "language": "csharp"
    },
    "polyglot_notebook": {
     "kernelName": "csharp"
    }
   },
   "outputs": [],
   "source": [
    "Console.Beep(262, 800);\n",
    "Console.Beep(262, 800);\n",
    "Console.Beep(392, 800);\n",
    "Console.Beep(392, 800);\n",
    "Console.Beep(440, 800);\n",
    "Console.Beep(440, 800);\n",
    "Console.Beep(392, 800*2);\n",
    "Console.Beep(349, 800);\n",
    "Console.Beep(349, 800);\n",
    "Console.Beep(329, 800);\n",
    "Console.Beep(329, 800);\n",
    "Console.Beep(294, 800);\n",
    "Console.Beep(294, 800);\n",
    "Console.Beep(262, 800);\n"
   ]
  },
  {
   "cell_type": "markdown",
   "metadata": {},
   "source": [
    "Repeated numeric literals for tones. Can we make this more readable?"
   ]
  },
  {
   "cell_type": "markdown",
   "metadata": {},
   "source": [
    "Let's store the tones in variables"
   ]
  },
  {
   "cell_type": "code",
   "execution_count": 21,
   "metadata": {
    "dotnet_interactive": {
     "language": "csharp"
    },
    "polyglot_notebook": {
     "kernelName": "csharp"
    }
   },
   "outputs": [],
   "source": [
    "int c = 262, g = 392, a = 440, f = 349, e = 330, d = 294;"
   ]
  },
  {
   "cell_type": "code",
   "execution_count": 103,
   "metadata": {
    "dotnet_interactive": {
     "language": "csharp"
    },
    "polyglot_notebook": {
     "kernelName": "csharp"
    }
   },
   "outputs": [],
   "source": [
    "Console.Beep(c, 800);\n",
    "Console.Beep(c, 800);\n",
    "Console.Beep(g, 800);\n",
    "Console.Beep(g, 800);\n",
    "Console.Beep(a, 800);\n",
    "\n"
   ]
  },
  {
   "cell_type": "markdown",
   "metadata": {},
   "source": [
    "Slightly more readable. We can read the notes without having to remember the frequencies. Calls to `Console.Beep` are still repeated. Can we do better? Let's write a function that plays a given note."
   ]
  },
  {
   "cell_type": "code",
   "execution_count": 1,
   "metadata": {
    "dotnet_interactive": {
     "language": "csharp"
    },
    "polyglot_notebook": {
     "kernelName": "csharp"
    }
   },
   "outputs": [],
   "source": [
    "void PlayNote(int tone, int duration) {\n",
    "    Console.Beep(tone, duration);\n",
    "}"
   ]
  },
  {
   "cell_type": "markdown",
   "metadata": {},
   "source": [
    "Let's call the method we just defined."
   ]
  },
  {
   "cell_type": "code",
   "execution_count": 104,
   "metadata": {
    "dotnet_interactive": {
     "language": "csharp"
    },
    "polyglot_notebook": {
     "kernelName": "csharp"
    }
   },
   "outputs": [],
   "source": [
    "PlayNote(c, 800);\n",
    "PlayNote(c, 800);\n",
    "PlayNote(g, 800);\n",
    "PlayNote(g, 800);\n",
    "PlayNote(a, 800);\n",
    "PlayNote(a, 800);\n"
   ]
  },
  {
   "cell_type": "markdown",
   "metadata": {},
   "source": [
    "We're still passing the notes as a numeric expression in the argument to the method call. Remember the argument here is a variable (which evaluates to a number) that is being assigned to the parameter when the method is called. Let's write a method that takes the tone as a string."
   ]
  },
  {
   "cell_type": "code",
   "execution_count": 41,
   "metadata": {
    "dotnet_interactive": {
     "language": "csharp"
    },
    "polyglot_notebook": {
     "kernelName": "csharp"
    }
   },
   "outputs": [],
   "source": [
    "void PlayNote(string tone, int duration) {\n",
    "    int c = 262, g = 392, a = 440, f = 349, e = 330, d = 294; // variables local to the method (scope)\n",
    "    int toneToPlay = c; \n",
    "    switch (tone) {\n",
    "        case \"a\":\n",
    "            toneToPlay = a;\n",
    "            break;\n",
    "        case \"b\":\n",
    "            break;\n",
    "        case \"c\":\n",
    "            toneToPlay = c;\n",
    "            break;\n",
    "        case \"d\":\n",
    "            toneToPlay = d;\n",
    "            break;\n",
    "        case \"e\":\n",
    "            toneToPlay = e;\n",
    "            break;\n",
    "        case \"f\":\n",
    "            toneToPlay = f;\n",
    "            break;\n",
    "        case \"g\":\n",
    "            toneToPlay = g;\n",
    "            break;\n",
    "    }\n",
    "    Console.Beep(toneToPlay, duration);\n",
    "\n",
    "}"
   ]
  },
  {
   "cell_type": "markdown",
   "metadata": {},
   "source": [
    "Let's try the new method"
   ]
  },
  {
   "cell_type": "code",
   "execution_count": 105,
   "metadata": {
    "dotnet_interactive": {
     "language": "csharp"
    },
    "polyglot_notebook": {
     "kernelName": "csharp"
    }
   },
   "outputs": [],
   "source": [
    "PlayNote(\"c\", 800);"
   ]
  },
  {
   "cell_type": "markdown",
   "metadata": {},
   "source": [
    "What will it look like if we used an `if` statement instead of a `switch`?"
   ]
  },
  {
   "cell_type": "code",
   "execution_count": 42,
   "metadata": {
    "dotnet_interactive": {
     "language": "csharp"
    },
    "polyglot_notebook": {
     "kernelName": "csharp"
    }
   },
   "outputs": [],
   "source": [
    "void PlayNote(string tone, int duration) {\n",
    "    int c = 262, g = 392, a = 440, f = 349, e = 329, d = 294; // variables local to the method (scope)\n",
    "    int toneToPlay = c; \n",
    "    if (tone == \"c\") {\n",
    "        toneToPlay = c;\n",
    "    }\n",
    "    if (tone == \"g\") {\n",
    "        toneToPlay = c;\n",
    "    }\n",
    "    // and so on\n",
    "\n",
    "    // finally play the tone that was asked for\n",
    "    Console.Beep(toneToPlay, duration);\n",
    "\n",
    "}"
   ]
  }
 ],
 "metadata": {
  "kernelspec": {
   "display_name": ".NET (C#)",
   "language": "C#",
   "name": ".net-csharp"
  },
  "language_info": {
   "name": "polyglot-notebook"
  },
  "polyglot_notebook": {
   "kernelInfo": {
    "defaultKernelName": "csharp",
    "items": [
     {
      "aliases": [],
      "languageName": "csharp",
      "name": "csharp"
     }
    ]
   }
  }
 },
 "nbformat": 4,
 "nbformat_minor": 2
}
